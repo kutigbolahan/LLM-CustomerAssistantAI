{
 "cells": [
  {
   "cell_type": "code",
   "id": "initial_id",
   "metadata": {
    "collapsed": true,
    "ExecuteTime": {
     "end_time": "2025-09-10T09:26:13.525413Z",
     "start_time": "2025-09-10T09:26:13.479846Z"
    }
   },
   "source": [
    "import os\n",
    "from openai import OpenAI\n",
    "\n",
    "import gradio as gr\n",
    "import ollama"
   ],
   "outputs": [],
   "execution_count": 31
  },
  {
   "metadata": {
    "ExecuteTime": {
     "end_time": "2025-09-10T09:16:18.375288Z",
     "start_time": "2025-09-10T09:16:18.366152Z"
    }
   },
   "cell_type": "code",
   "source": "#openai = OpenAI(base_url='http://localhost:11434', api_key='ollama')",
   "id": "92d3b0e97b97abf0",
   "outputs": [],
   "execution_count": 19
  },
  {
   "metadata": {
    "ExecuteTime": {
     "end_time": "2025-09-10T09:42:12.121443Z",
     "start_time": "2025-09-10T09:42:12.117827Z"
    }
   },
   "cell_type": "code",
   "source": [
    "Model_llama = 'llama3.2'\n",
    "system_message='You are a helpful assistant'"
   ],
   "id": "c4e7b71aeffe9797",
   "outputs": [],
   "execution_count": 50
  },
  {
   "metadata": {
    "ExecuteTime": {
     "end_time": "2025-09-10T09:43:44.714939Z",
     "start_time": "2025-09-10T09:43:44.710741Z"
    }
   },
   "cell_type": "code",
   "source": [
    "def chat(message, history):\n",
    "    messages = [{\"role\":\"system\", \"content\":system_message}] + history + [{\"role\": \"user\", \"content\":message}]\n",
    "    stream = ollama.chat(model=Model_llama, messages=messages, stream=True)\n",
    "    response = \"\"\n",
    "    for chunk in stream:\n",
    "        response += chunk.message.content\n",
    "        yield response"
   ],
   "id": "bab31d50b42234cf",
   "outputs": [],
   "execution_count": 54
  },
  {
   "metadata": {
    "ExecuteTime": {
     "end_time": "2025-09-10T09:43:45.904288Z",
     "start_time": "2025-09-10T09:43:45.833473Z"
    }
   },
   "cell_type": "code",
   "source": "gr.ChatInterface(fn=chat, type='messages').launch()",
   "id": "9786ce5ae8fcf1b5",
   "outputs": [
    {
     "name": "stdout",
     "output_type": "stream",
     "text": [
      "Running on local URL:  http://127.0.0.1:7891\n",
      "\n",
      "To create a public link, set `share=True` in `launch()`.\n"
     ]
    },
    {
     "data": {
      "text/plain": [
       "<IPython.core.display.HTML object>"
      ],
      "text/html": [
       "<div><iframe src=\"http://127.0.0.1:7891/\" width=\"100%\" height=\"500\" allow=\"autoplay; camera; microphone; clipboard-read; clipboard-write;\" frameborder=\"0\" allowfullscreen></iframe></div>"
      ]
     },
     "metadata": {},
     "output_type": "display_data"
    },
    {
     "data": {
      "text/plain": []
     },
     "execution_count": 55,
     "metadata": {},
     "output_type": "execute_result"
    }
   ],
   "execution_count": 55
  },
  {
   "metadata": {},
   "cell_type": "code",
   "outputs": [],
   "execution_count": null,
   "source": "",
   "id": "2a7688c2fcee1b6e"
  }
 ],
 "metadata": {
  "kernelspec": {
   "display_name": "Python 3",
   "language": "python",
   "name": "python3"
  },
  "language_info": {
   "codemirror_mode": {
    "name": "ipython",
    "version": 2
   },
   "file_extension": ".py",
   "mimetype": "text/x-python",
   "name": "python",
   "nbconvert_exporter": "python",
   "pygments_lexer": "ipython2",
   "version": "2.7.6"
  }
 },
 "nbformat": 4,
 "nbformat_minor": 5
}
